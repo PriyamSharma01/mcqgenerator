{
 "cells": [
  {
   "cell_type": "code",
   "execution_count": 1,
   "metadata": {},
   "outputs": [],
   "source": [
    "import os\n",
    "import json\n",
    "import pandas as pd\n",
    "import traceback"
   ]
  },
  {
   "cell_type": "code",
   "execution_count": 2,
   "metadata": {},
   "outputs": [],
   "source": [
    "#!pip install -U langchain-openai"
   ]
  },
  {
   "cell_type": "code",
   "execution_count": 3,
   "metadata": {},
   "outputs": [],
   "source": [
    "from langchain_openai import ChatOpenAI"
   ]
  },
  {
   "cell_type": "code",
   "execution_count": 4,
   "metadata": {},
   "outputs": [
    {
     "data": {
      "text/plain": [
       "True"
      ]
     },
     "execution_count": 4,
     "metadata": {},
     "output_type": "execute_result"
    }
   ],
   "source": [
    "from dotenv import load_dotenv\n",
    "load_dotenv()"
   ]
  },
  {
   "cell_type": "code",
   "execution_count": 5,
   "metadata": {},
   "outputs": [],
   "source": [
    "KEY= os.getenv(\"OPENAI_API_KEY\")"
   ]
  },
  {
   "cell_type": "code",
   "execution_count": 6,
   "metadata": {},
   "outputs": [],
   "source": [
    "llm = ChatOpenAI(openai_api_key=KEY, model_name=\"gpt-3.5-turbo\", temperature=0.5)"
   ]
  },
  {
   "cell_type": "code",
   "execution_count": 7,
   "metadata": {},
   "outputs": [
    {
     "data": {
      "text/plain": [
       "ChatOpenAI(client=<openai.resources.chat.completions.Completions object at 0x000002E067F94EB0>, async_client=<openai.resources.chat.completions.AsyncCompletions object at 0x000002E067F96350>, temperature=0.5, openai_api_key=SecretStr('**********'), openai_proxy='')"
      ]
     },
     "execution_count": 7,
     "metadata": {},
     "output_type": "execute_result"
    }
   ],
   "source": [
    "llm"
   ]
  },
  {
   "cell_type": "code",
   "execution_count": 8,
   "metadata": {},
   "outputs": [],
   "source": [
    "from langchain.llms import OpenAI\n",
    "from langchain.prompts import PromptTemplate\n",
    "from langchain.chains import LLMChain, SequentialChain\n",
    "from langchain.callbacks import get_openai_callback\n",
    "import PyPDF2"
   ]
  },
  {
   "cell_type": "code",
   "execution_count": 9,
   "metadata": {},
   "outputs": [],
   "source": [
    "RESPONSE_JSON = {\n",
    "    \"1\": {\n",
    "        \"mcq\": \"multiple choice question\",\n",
    "        \"options\": {\n",
    "            \"a\": \"choice here\",\n",
    "            \"b\": \"choice here\",\n",
    "            \"c\": \"choice here\",\n",
    "            \"d\": \"choice here\",\n",
    "        },\n",
    "        \"correct\": \"correct answer\",\n",
    "    },\n",
    "    \"2\": {\n",
    "        \"mcq\": \"multiple choice question\",\n",
    "        \"options\": {\n",
    "            \"a\": \"choice here\",\n",
    "            \"b\": \"choice here\",\n",
    "            \"c\": \"choice here\",\n",
    "            \"d\": \"choice here\",\n",
    "        },\n",
    "        \"correct\": \"correct answer\",\n",
    "    },\n",
    "    \"3\": {\n",
    "        \"mcq\": \"multiple choice question\",\n",
    "        \"options\": {\n",
    "            \"a\": \"choice here\",\n",
    "            \"b\": \"choice here\",\n",
    "            \"c\": \"choice here\",\n",
    "            \"d\": \"choice here\",\n",
    "        },\n",
    "        \"correct\": \"correct answer\",\n",
    "    },\n",
    "}"
   ]
  },
  {
   "cell_type": "code",
   "execution_count": 10,
   "metadata": {},
   "outputs": [],
   "source": [
    "TEMPLATE = \"\"\"\n",
    "Text:{text}\n",
    "You are an expert MCQ maker. Given the above text, it is your job to \\\n",
    "create a quiz  of {number} multiple choice questions for {subject} students in {tone} tone. \n",
    "Make sure the questions are not repeated and check all the questions to be conforming the text as well.\n",
    "Make sure to format your response like  RESPONSE_JSON below  and use it as a guide. \\\n",
    "Ensure to make {number} MCQs\n",
    "### RESPONSE_JSON\n",
    "{response_json}\n",
    "\n",
    "\"\"\""
   ]
  },
  {
   "cell_type": "code",
   "execution_count": 11,
   "metadata": {},
   "outputs": [],
   "source": [
    "quiz_generation_prompt = PromptTemplate(\n",
    "    input_variables = [\"text\",\"number\",\"subject\",\"tone\",\"response_json\"],\n",
    "    template=TEMPLATE\n",
    ")"
   ]
  },
  {
   "cell_type": "code",
   "execution_count": 12,
   "metadata": {},
   "outputs": [],
   "source": [
    "quiz_chain = LLMChain(llm=llm,prompt=quiz_generation_prompt, output_key=\"quiz\",verbose=True)"
   ]
  },
  {
   "cell_type": "code",
   "execution_count": 13,
   "metadata": {},
   "outputs": [],
   "source": [
    "TEMPLATE2=\"\"\"\n",
    "You are an expert english grammarian and writer. Given a Multiple Choice Quiz for {subject} students.\\\n",
    "You need to evaluate the complexity of the question and give a complete analysis of the quiz. Only use at max 50 words for complexity analysis. \n",
    "if the quiz is not at per with the cognitive and analytical abilities of the students,\\\n",
    "update the quiz questions which needs to be changed and change the tone such that it perfectly fits the student abilities\n",
    "Quiz_MCQs:\n",
    "{quiz}\n",
    "\n",
    "Check from an expert English Writer of the above quiz:\n",
    "\"\"\""
   ]
  },
  {
   "cell_type": "code",
   "execution_count": 14,
   "metadata": {},
   "outputs": [],
   "source": [
    "quiz_evaluation_prompt=PromptTemplate(input_variables=[\"subject\", \"quiz\"], template=TEMPLATE)"
   ]
  },
  {
   "cell_type": "code",
   "execution_count": 15,
   "metadata": {},
   "outputs": [],
   "source": [
    "review_chain=LLMChain(llm=llm, prompt=quiz_evaluation_prompt, output_key=\"review\", verbose=True)"
   ]
  },
  {
   "cell_type": "code",
   "execution_count": 16,
   "metadata": {},
   "outputs": [],
   "source": [
    "generate_evaluate_chain=SequentialChain(chains=[quiz_chain, review_chain], input_variables=[\"text\", \"number\", \"subject\", \"tone\", \"response_json\"],\n",
    "                                        output_variables=[\"quiz\", \"review\"], verbose=True,)"
   ]
  },
  {
   "cell_type": "code",
   "execution_count": 17,
   "metadata": {},
   "outputs": [],
   "source": [
    "file_path = r\"C:/Users/the_hood/Desktop/ineuron/mcqgenerator/data.txt\""
   ]
  },
  {
   "cell_type": "code",
   "execution_count": 18,
   "metadata": {},
   "outputs": [],
   "source": [
    "with open(file_path,'r') as file:\n",
    "    TEXT = file.read()"
   ]
  },
  {
   "cell_type": "code",
   "execution_count": 19,
   "metadata": {},
   "outputs": [
    {
     "name": "stdout",
     "output_type": "stream",
     "text": [
      "Kali phosphoricum or the phosphate of potassium (K2HPO4) is a homeopathic medication that is dispensed in the form of small round pills or diluted solutions.\n",
      "\n",
      "It has widespread usages in homeopathy, including its use as a tonic for nerves and the brain. A homeopathic practitioner may prescribe this medicine in multiple doses if a patient suffers from psychosomatic effects (affecting the mind and body) of longstanding stress, such as:\n",
      "\n",
      "chronic fatigue\n",
      "tension headaches\n",
      "acidity\n",
      "upset stomach\n",
      "It could also be prescribed (after exhaustively analyzing medical history and conducting consultation sessions) in individuals who suffer from stress-related mood swings, migraines, insomnia, anxiety, and depressive episodes.\n",
      "\n",
      "The homeopathic texts state that potassium phosphate can be prescribed in standard homeopathic doses for problems with cognition, inattention, and difficulties during concentrating. Homeopathic medications are best taken under the supervision of a doctor. This includes the homeopathic doctor as well as the family physician, who practices modern medicine.\n",
      "\n",
      "It is better to abstain from chewing tobacco or drinking liquor when on homeopathic medications, especially kali phosphoricum.\n",
      "\n",
      "\n",
      "Is kali phosphoricum effective?\n",
      "Homeopathy is an alternate system of medicine and healing that originated in Germany many years ago. It involves dispensing “customized” doses and “specific” drugs based on the medical history and symptoms of a patient.\n",
      "\n",
      "Many homeopathic products are so diluted that clinical studies have found no molecules of the original substance in the drug formulations. Many modern medicine practitioners believe that homeopathy does not work. Furthermore, several studies conducted with kali phosphoricum and similar drugs have yielded inconclusive findings regarding their efficacy. As of the present, the trace elements present in kali phosphoricum have shown no potential or effectiveness against the conditions for which they are prescribed.\n",
      "\n",
      "The U.S. Food and Drug Administration has not approved any homeopathic medication to be an alternative to conventional medications.\n",
      "\n",
      "\n",
      "Who can take kali phos?\n",
      "Though the homeopathic medicine practitioners state that kali phos is safe for all age groups, it is recommended that conventional medications or interventions should not be replaced with homeopathy. Do not postpone seeing a healthcare provider about a serious medical problem. If there are constant issues with memory, severe fatigue that does not go away, constant headaches, insomnia, and gastric upset, it is better to visit a practitioner of modern medicine and get the required tests done to rule out causes other than stress.\n",
      "\n",
      "Many homeopathic medications have been flagged by the U.S. Food and Drug Administration as controversial because of the following reasons:\n",
      "\n",
      "The possibility of bacterial growth in the preparations\n",
      "The liquid preparations offered to kids may contain alcohol as a solvent\n",
      "Therefore, people must avoid taking kali phos (or any other homeopathic medication) if they are pregnant, breastfeeding, or have immunodeficiencies. Children and adolescents younger than 18 years old must be given such medication only after discussing it with a healthcare provider.\n",
      "\n",
      "Though the practitioners argue that homeopathic medications do not cause adverse effects, people must always bring along the homeopathic product they use (if there is one) when visiting their doctor.\n",
      "\n",
      "4 things to know about homeopathic medications\n",
      "It is prudent to follow the recommended conventional immunization schedules for children as well as adults. Homeopathic products cannot replace conventional immunizations.\n",
      "Talk to the healthcare professional before starting homeopathic medications for a child.\n",
      "While the manufacturers claim that homeopathic products are “highly diluted,” the U.S. Food and Drug Administration cautions that some of these products may contain measurable amounts of active ingredients, be adulterated, and cause significant harm.\n",
      "Unsterile manufacturing procedures and incorrect dilutions used as homeopathic eye drops may cause serious complications.\n"
     ]
    }
   ],
   "source": [
    "print(TEXT)"
   ]
  },
  {
   "cell_type": "code",
   "execution_count": 20,
   "metadata": {},
   "outputs": [
    {
     "data": {
      "text/plain": [
       "'{\"1\": {\"mcq\": \"multiple choice question\", \"options\": {\"a\": \"choice here\", \"b\": \"choice here\", \"c\": \"choice here\", \"d\": \"choice here\"}, \"correct\": \"correct answer\"}, \"2\": {\"mcq\": \"multiple choice question\", \"options\": {\"a\": \"choice here\", \"b\": \"choice here\", \"c\": \"choice here\", \"d\": \"choice here\"}, \"correct\": \"correct answer\"}, \"3\": {\"mcq\": \"multiple choice question\", \"options\": {\"a\": \"choice here\", \"b\": \"choice here\", \"c\": \"choice here\", \"d\": \"choice here\"}, \"correct\": \"correct answer\"}}'"
      ]
     },
     "execution_count": 20,
     "metadata": {},
     "output_type": "execute_result"
    }
   ],
   "source": [
    "json.dumps(RESPONSE_JSON)"
   ]
  },
  {
   "cell_type": "code",
   "execution_count": 21,
   "metadata": {},
   "outputs": [],
   "source": [
    "NUMBER = 10\n",
    "SUBJECT = \"Homeopathy\"\n",
    "TONE = \"simple\""
   ]
  },
  {
   "cell_type": "code",
   "execution_count": 22,
   "metadata": {},
   "outputs": [
    {
     "name": "stderr",
     "output_type": "stream",
     "text": [
      "c:\\Users\\the_hood\\Desktop\\ineuron\\mcqgenerator\\env\\lib\\site-packages\\langchain_core\\_api\\deprecation.py:117: LangChainDeprecationWarning: The function `__call__` was deprecated in LangChain 0.1.0 and will be removed in 0.2.0. Use invoke instead.\n",
      "  warn_deprecated(\n"
     ]
    },
    {
     "name": "stdout",
     "output_type": "stream",
     "text": [
      "\n",
      "\n",
      "\u001b[1m> Entering new SequentialChain chain...\u001b[0m\n",
      "\n",
      "\n",
      "\u001b[1m> Entering new LLMChain chain...\u001b[0m\n",
      "Prompt after formatting:\n",
      "\u001b[32;1m\u001b[1;3m\n",
      "Text:Kali phosphoricum or the phosphate of potassium (K2HPO4) is a homeopathic medication that is dispensed in the form of small round pills or diluted solutions.\n",
      "\n",
      "It has widespread usages in homeopathy, including its use as a tonic for nerves and the brain. A homeopathic practitioner may prescribe this medicine in multiple doses if a patient suffers from psychosomatic effects (affecting the mind and body) of longstanding stress, such as:\n",
      "\n",
      "chronic fatigue\n",
      "tension headaches\n",
      "acidity\n",
      "upset stomach\n",
      "It could also be prescribed (after exhaustively analyzing medical history and conducting consultation sessions) in individuals who suffer from stress-related mood swings, migraines, insomnia, anxiety, and depressive episodes.\n",
      "\n",
      "The homeopathic texts state that potassium phosphate can be prescribed in standard homeopathic doses for problems with cognition, inattention, and difficulties during concentrating. Homeopathic medications are best taken under the supervision of a doctor. This includes the homeopathic doctor as well as the family physician, who practices modern medicine.\n",
      "\n",
      "It is better to abstain from chewing tobacco or drinking liquor when on homeopathic medications, especially kali phosphoricum.\n",
      "\n",
      "\n",
      "Is kali phosphoricum effective?\n",
      "Homeopathy is an alternate system of medicine and healing that originated in Germany many years ago. It involves dispensing “customized” doses and “specific” drugs based on the medical history and symptoms of a patient.\n",
      "\n",
      "Many homeopathic products are so diluted that clinical studies have found no molecules of the original substance in the drug formulations. Many modern medicine practitioners believe that homeopathy does not work. Furthermore, several studies conducted with kali phosphoricum and similar drugs have yielded inconclusive findings regarding their efficacy. As of the present, the trace elements present in kali phosphoricum have shown no potential or effectiveness against the conditions for which they are prescribed.\n",
      "\n",
      "The U.S. Food and Drug Administration has not approved any homeopathic medication to be an alternative to conventional medications.\n",
      "\n",
      "\n",
      "Who can take kali phos?\n",
      "Though the homeopathic medicine practitioners state that kali phos is safe for all age groups, it is recommended that conventional medications or interventions should not be replaced with homeopathy. Do not postpone seeing a healthcare provider about a serious medical problem. If there are constant issues with memory, severe fatigue that does not go away, constant headaches, insomnia, and gastric upset, it is better to visit a practitioner of modern medicine and get the required tests done to rule out causes other than stress.\n",
      "\n",
      "Many homeopathic medications have been flagged by the U.S. Food and Drug Administration as controversial because of the following reasons:\n",
      "\n",
      "The possibility of bacterial growth in the preparations\n",
      "The liquid preparations offered to kids may contain alcohol as a solvent\n",
      "Therefore, people must avoid taking kali phos (or any other homeopathic medication) if they are pregnant, breastfeeding, or have immunodeficiencies. Children and adolescents younger than 18 years old must be given such medication only after discussing it with a healthcare provider.\n",
      "\n",
      "Though the practitioners argue that homeopathic medications do not cause adverse effects, people must always bring along the homeopathic product they use (if there is one) when visiting their doctor.\n",
      "\n",
      "4 things to know about homeopathic medications\n",
      "It is prudent to follow the recommended conventional immunization schedules for children as well as adults. Homeopathic products cannot replace conventional immunizations.\n",
      "Talk to the healthcare professional before starting homeopathic medications for a child.\n",
      "While the manufacturers claim that homeopathic products are “highly diluted,” the U.S. Food and Drug Administration cautions that some of these products may contain measurable amounts of active ingredients, be adulterated, and cause significant harm.\n",
      "Unsterile manufacturing procedures and incorrect dilutions used as homeopathic eye drops may cause serious complications.\n",
      "You are an expert MCQ maker. Given the above text, it is your job to create a quiz  of 10 multiple choice questions for Homeopathy students in simple tone. \n",
      "Make sure the questions are not repeated and check all the questions to be conforming the text as well.\n",
      "Make sure to format your response like  RESPONSE_JSON below  and use it as a guide. Ensure to make 10 MCQs\n",
      "### RESPONSE_JSON\n",
      "{\"1\": {\"mcq\": \"multiple choice question\", \"options\": {\"a\": \"choice here\", \"b\": \"choice here\", \"c\": \"choice here\", \"d\": \"choice here\"}, \"correct\": \"correct answer\"}, \"2\": {\"mcq\": \"multiple choice question\", \"options\": {\"a\": \"choice here\", \"b\": \"choice here\", \"c\": \"choice here\", \"d\": \"choice here\"}, \"correct\": \"correct answer\"}, \"3\": {\"mcq\": \"multiple choice question\", \"options\": {\"a\": \"choice here\", \"b\": \"choice here\", \"c\": \"choice here\", \"d\": \"choice here\"}, \"correct\": \"correct answer\"}}\n",
      "\n",
      "\u001b[0m\n",
      "\n",
      "\u001b[1m> Finished chain.\u001b[0m\n",
      "\n",
      "\n",
      "\u001b[1m> Entering new LLMChain chain...\u001b[0m\n",
      "Prompt after formatting:\n",
      "\u001b[32;1m\u001b[1;3m\n",
      "Text:Kali phosphoricum or the phosphate of potassium (K2HPO4) is a homeopathic medication that is dispensed in the form of small round pills or diluted solutions.\n",
      "\n",
      "It has widespread usages in homeopathy, including its use as a tonic for nerves and the brain. A homeopathic practitioner may prescribe this medicine in multiple doses if a patient suffers from psychosomatic effects (affecting the mind and body) of longstanding stress, such as:\n",
      "\n",
      "chronic fatigue\n",
      "tension headaches\n",
      "acidity\n",
      "upset stomach\n",
      "It could also be prescribed (after exhaustively analyzing medical history and conducting consultation sessions) in individuals who suffer from stress-related mood swings, migraines, insomnia, anxiety, and depressive episodes.\n",
      "\n",
      "The homeopathic texts state that potassium phosphate can be prescribed in standard homeopathic doses for problems with cognition, inattention, and difficulties during concentrating. Homeopathic medications are best taken under the supervision of a doctor. This includes the homeopathic doctor as well as the family physician, who practices modern medicine.\n",
      "\n",
      "It is better to abstain from chewing tobacco or drinking liquor when on homeopathic medications, especially kali phosphoricum.\n",
      "\n",
      "\n",
      "Is kali phosphoricum effective?\n",
      "Homeopathy is an alternate system of medicine and healing that originated in Germany many years ago. It involves dispensing “customized” doses and “specific” drugs based on the medical history and symptoms of a patient.\n",
      "\n",
      "Many homeopathic products are so diluted that clinical studies have found no molecules of the original substance in the drug formulations. Many modern medicine practitioners believe that homeopathy does not work. Furthermore, several studies conducted with kali phosphoricum and similar drugs have yielded inconclusive findings regarding their efficacy. As of the present, the trace elements present in kali phosphoricum have shown no potential or effectiveness against the conditions for which they are prescribed.\n",
      "\n",
      "The U.S. Food and Drug Administration has not approved any homeopathic medication to be an alternative to conventional medications.\n",
      "\n",
      "\n",
      "Who can take kali phos?\n",
      "Though the homeopathic medicine practitioners state that kali phos is safe for all age groups, it is recommended that conventional medications or interventions should not be replaced with homeopathy. Do not postpone seeing a healthcare provider about a serious medical problem. If there are constant issues with memory, severe fatigue that does not go away, constant headaches, insomnia, and gastric upset, it is better to visit a practitioner of modern medicine and get the required tests done to rule out causes other than stress.\n",
      "\n",
      "Many homeopathic medications have been flagged by the U.S. Food and Drug Administration as controversial because of the following reasons:\n",
      "\n",
      "The possibility of bacterial growth in the preparations\n",
      "The liquid preparations offered to kids may contain alcohol as a solvent\n",
      "Therefore, people must avoid taking kali phos (or any other homeopathic medication) if they are pregnant, breastfeeding, or have immunodeficiencies. Children and adolescents younger than 18 years old must be given such medication only after discussing it with a healthcare provider.\n",
      "\n",
      "Though the practitioners argue that homeopathic medications do not cause adverse effects, people must always bring along the homeopathic product they use (if there is one) when visiting their doctor.\n",
      "\n",
      "4 things to know about homeopathic medications\n",
      "It is prudent to follow the recommended conventional immunization schedules for children as well as adults. Homeopathic products cannot replace conventional immunizations.\n",
      "Talk to the healthcare professional before starting homeopathic medications for a child.\n",
      "While the manufacturers claim that homeopathic products are “highly diluted,” the U.S. Food and Drug Administration cautions that some of these products may contain measurable amounts of active ingredients, be adulterated, and cause significant harm.\n",
      "Unsterile manufacturing procedures and incorrect dilutions used as homeopathic eye drops may cause serious complications.\n",
      "You are an expert MCQ maker. Given the above text, it is your job to create a quiz  of 10 multiple choice questions for Homeopathy students in simple tone. \n",
      "Make sure the questions are not repeated and check all the questions to be conforming the text as well.\n",
      "Make sure to format your response like  RESPONSE_JSON below  and use it as a guide. Ensure to make 10 MCQs\n",
      "### RESPONSE_JSON\n",
      "{\"1\": {\"mcq\": \"multiple choice question\", \"options\": {\"a\": \"choice here\", \"b\": \"choice here\", \"c\": \"choice here\", \"d\": \"choice here\"}, \"correct\": \"correct answer\"}, \"2\": {\"mcq\": \"multiple choice question\", \"options\": {\"a\": \"choice here\", \"b\": \"choice here\", \"c\": \"choice here\", \"d\": \"choice here\"}, \"correct\": \"correct answer\"}, \"3\": {\"mcq\": \"multiple choice question\", \"options\": {\"a\": \"choice here\", \"b\": \"choice here\", \"c\": \"choice here\", \"d\": \"choice here\"}, \"correct\": \"correct answer\"}}\n",
      "\n",
      "\u001b[0m\n",
      "\n",
      "\u001b[1m> Finished chain.\u001b[0m\n",
      "\n",
      "\u001b[1m> Finished chain.\u001b[0m\n"
     ]
    }
   ],
   "source": [
    "with get_openai_callback() as cb:\n",
    "    response=generate_evaluate_chain(\n",
    "        {\n",
    "            \"text\": TEXT,\n",
    "            \"number\": NUMBER,\n",
    "            \"subject\": SUBJECT,\n",
    "            \"tone\": TONE,\n",
    "            \"response_json\": json.dumps(RESPONSE_JSON)\n",
    "        }\n",
    "    )"
   ]
  },
  {
   "cell_type": "code",
   "execution_count": 23,
   "metadata": {},
   "outputs": [
    {
     "name": "stdout",
     "output_type": "stream",
     "text": [
      "Total Tokens:3464\n",
      "Prompt Tokens:1992\n",
      "Completion Tokens:1472\n",
      "Total Cost:0.005932000000000001\n"
     ]
    }
   ],
   "source": [
    "print(f\"Total Tokens:{cb.total_tokens}\")\n",
    "print(f\"Prompt Tokens:{cb.prompt_tokens}\")\n",
    "print(f\"Completion Tokens:{cb.completion_tokens}\")\n",
    "print(f\"Total Cost:{cb.total_cost}\")"
   ]
  },
  {
   "cell_type": "code",
   "execution_count": 24,
   "metadata": {},
   "outputs": [
    {
     "data": {
      "text/plain": [
       "{'text': 'Kali phosphoricum or the phosphate of potassium (K2HPO4) is a homeopathic medication that is dispensed in the form of small round pills or diluted solutions.\\n\\nIt has widespread usages in homeopathy, including its use as a tonic for nerves and the brain. A homeopathic practitioner may prescribe this medicine in multiple doses if a patient suffers from psychosomatic effects (affecting the mind and body) of longstanding stress, such as:\\n\\nchronic fatigue\\ntension headaches\\nacidity\\nupset stomach\\nIt could also be prescribed (after exhaustively analyzing medical history and conducting consultation sessions) in individuals who suffer from stress-related mood swings, migraines, insomnia, anxiety, and depressive episodes.\\n\\nThe homeopathic texts state that potassium phosphate can be prescribed in standard homeopathic doses for problems with cognition, inattention, and difficulties during concentrating. Homeopathic medications are best taken under the supervision of a doctor. This includes the homeopathic doctor as well as the family physician, who practices modern medicine.\\n\\nIt is better to abstain from chewing tobacco or drinking liquor when on homeopathic medications, especially kali phosphoricum.\\n\\n\\nIs kali phosphoricum effective?\\nHomeopathy is an alternate system of medicine and healing that originated in Germany many years ago. It involves dispensing “customized” doses and “specific” drugs based on the medical history and symptoms of a patient.\\n\\nMany homeopathic products are so diluted that clinical studies have found no molecules of the original substance in the drug formulations. Many modern medicine practitioners believe that homeopathy does not work. Furthermore, several studies conducted with kali phosphoricum and similar drugs have yielded inconclusive findings regarding their efficacy. As of the present, the trace elements present in kali phosphoricum have shown no potential or effectiveness against the conditions for which they are prescribed.\\n\\nThe U.S. Food and Drug Administration has not approved any homeopathic medication to be an alternative to conventional medications.\\n\\n\\nWho can take kali phos?\\nThough the homeopathic medicine practitioners state that kali phos is safe for all age groups, it is recommended that conventional medications or interventions should not be replaced with homeopathy. Do not postpone seeing a healthcare provider about a serious medical problem. If there are constant issues with memory, severe fatigue that does not go away, constant headaches, insomnia, and gastric upset, it is better to visit a practitioner of modern medicine and get the required tests done to rule out causes other than stress.\\n\\nMany homeopathic medications have been flagged by the U.S. Food and Drug Administration as controversial because of the following reasons:\\n\\nThe possibility of bacterial growth in the preparations\\nThe liquid preparations offered to kids may contain alcohol as a solvent\\nTherefore, people must avoid taking kali phos (or any other homeopathic medication) if they are pregnant, breastfeeding, or have immunodeficiencies. Children and adolescents younger than 18 years old must be given such medication only after discussing it with a healthcare provider.\\n\\nThough the practitioners argue that homeopathic medications do not cause adverse effects, people must always bring along the homeopathic product they use (if there is one) when visiting their doctor.\\n\\n4 things to know about homeopathic medications\\nIt is prudent to follow the recommended conventional immunization schedules for children as well as adults. Homeopathic products cannot replace conventional immunizations.\\nTalk to the healthcare professional before starting homeopathic medications for a child.\\nWhile the manufacturers claim that homeopathic products are “highly diluted,” the U.S. Food and Drug Administration cautions that some of these products may contain measurable amounts of active ingredients, be adulterated, and cause significant harm.\\nUnsterile manufacturing procedures and incorrect dilutions used as homeopathic eye drops may cause serious complications.',\n",
       " 'number': 10,\n",
       " 'subject': 'Homeopathy',\n",
       " 'tone': 'simple',\n",
       " 'response_json': '{\"1\": {\"mcq\": \"multiple choice question\", \"options\": {\"a\": \"choice here\", \"b\": \"choice here\", \"c\": \"choice here\", \"d\": \"choice here\"}, \"correct\": \"correct answer\"}, \"2\": {\"mcq\": \"multiple choice question\", \"options\": {\"a\": \"choice here\", \"b\": \"choice here\", \"c\": \"choice here\", \"d\": \"choice here\"}, \"correct\": \"correct answer\"}, \"3\": {\"mcq\": \"multiple choice question\", \"options\": {\"a\": \"choice here\", \"b\": \"choice here\", \"c\": \"choice here\", \"d\": \"choice here\"}, \"correct\": \"correct answer\"}}',\n",
       " 'quiz': '{\\n\"1\": {\\n\"mcq\": \"What is Kali phosphoricum?\",\\n\"options\": {\\n\"a\": \"A homeopathic medication made from potassium phosphate\",\\n\"b\": \"A modern medicine for stress relief\",\\n\"c\": \"A type of surgical procedure\",\\n\"d\": \"An antibiotic drug\"\\n},\\n\"correct\": \"a\"\\n},\\n\"2\": {\\n\"mcq\": \"What is the main usage of Kali phosphoricum in homeopathy?\",\\n\"options\": {\\n\"a\": \"Treatment of skin conditions\",\\n\"b\": \"Tonic for nerves and the brain\",\\n\"c\": \"Treatment of heart diseases\",\\n\"d\": \"Treatment of respiratory infections\"\\n},\\n\"correct\": \"b\"\\n},\\n\"3\": {\\n\"mcq\": \"Which of the following conditions can Kali phosphoricum be prescribed for?\",\\n\"options\": {\\n\"a\": \"High blood pressure\",\\n\"b\": \"Chronic fatigue\",\\n\"c\": \"Diabetes\",\\n\"d\": \"Broken bones\"\\n},\\n\"correct\": \"b\"\\n},\\n\"4\": {\\n\"mcq\": \"What caution should be taken when consuming Kali phosphoricum?\",\\n\"options\": {\\n\"a\": \"Avoid chewing tobacco or drinking alcohol\",\\n\"b\": \"Take it with any type of beverage\",\\n\"c\": \"Consume it with high-fat foods\",\\n\"d\": \"Mix it with other medications\"\\n},\\n\"correct\": \"a\"\\n},\\n\"5\": {\\n\"mcq\": \"Is Kali phosphoricum approved by the U.S. Food and Drug Administration?\",\\n\"options\": {\\n\"a\": \"Yes, for all age groups\",\\n\"b\": \"No, it has not been approved\",\\n\"c\": \"Only for children under 12\",\\n\"d\": \"Only for pregnant women\"\\n},\\n\"correct\": \"b\"\\n},\\n\"6\": {\\n\"mcq\": \"Who should consult a healthcare provider before taking Kali phosphoricum?\",\\n\"options\": {\\n\"a\": \"Only pregnant women\",\\n\"b\": \"Children and adolescents\",\\n\"c\": \"Elderly people\",\\n\"d\": \"Only people with allergies\"\\n},\\n\"correct\": \"b\"\\n},\\n\"7\": {\\n\"mcq\": \"What is the caution given by the U.S. Food and Drug Administration regarding homeopathic products?\",\\n\"options\": {\\n\"a\": \"They are all safe for consumption\",\\n\"b\": \"They may contain measurable amounts of active ingredients\",\\n\"c\": \"They are better than conventional medications\",\\n\"d\": \"They have no side effects\"\\n},\\n\"correct\": \"b\"\\n},\\n\"8\": {\\n\"mcq\": \"What is the recommendation regarding conventional immunizations and homeopathic products?\",\\n\"options\": {\\n\"a\": \"Homeopathic products can replace conventional immunizations\",\\n\"b\": \"Conventional immunizations should be followed as recommended\",\\n\"c\": \"Children should not receive any immunizations\",\\n\"d\": \"Only adults need immunizations\"\\n},\\n\"correct\": \"b\"\\n},\\n\"9\": {\\n\"mcq\": \"What should be done before starting homeopathic medications for a child?\",\\n\"options\": {\\n\"a\": \"Consult a healthcare professional\",\\n\"b\": \"Start the medication immediately\",\\n\"c\": \"Give a higher dose than recommended\",\\n\"d\": \"Wait for symptoms to worsen\"\\n},\\n\"correct\": \"a\"\\n},\\n\"10\": {\\n\"mcq\": \"What complications can arise from unsterile manufacturing procedures of homeopathic products?\",\\n\"options\": {\\n\"a\": \"No complications\",\\n\"b\": \"Minor skin irritation\",\\n\"c\": \"Serious complications\",\\n\"d\": \"Temporary headaches\"\\n},\\n\"correct\": \"c\"\\n}\\n}',\n",
       " 'review': '\\n{\\n\"1\": {\\n\"mcq\": \"What is Kali phosphoricum?\",\\n\"options\": {\\n\"a\": \"A homeopathic medication\",\\n\"b\": \"A type of antibiotic\",\\n\"c\": \"A surgical procedure\",\\n\"d\": \"A vitamin supplement\"\\n},\\n\"correct\": \"a\"\\n},\\n\"2\": {\\n\"mcq\": \"What is the main usage of Kali phosphoricum in homeopathy?\",\\n\"options\": {\\n\"a\": \"To treat skin conditions\",\\n\"b\": \"To improve digestion\",\\n\"c\": \"As a tonic for nerves and the brain\",\\n\"d\": \"To reduce inflammation\"\\n},\\n\"correct\": \"c\"\\n},\\n\"3\": {\\n\"mcq\": \"Why is it recommended to take homeopathic medications under the supervision of a doctor?\",\\n\"options\": {\\n\"a\": \"To avoid side effects\",\\n\"b\": \"To ensure correct dosage\",\\n\"c\": \"To prevent bacterial growth\",\\n\"d\": \"To speed up recovery\"\\n},\\n\"correct\": \"b\"\\n},\\n\"4\": {\\n\"mcq\": \"What caution is advised for pregnant women regarding homeopathic medications?\",\\n\"options\": {\\n\"a\": \"They should take double the dosage\",\\n\"b\": \"They should avoid taking any homeopathic medication\",\\n\"c\": \"They should consult a healthcare provider before taking any medication\",\\n\"d\": \"They should only take liquid preparations\"\\n},\\n\"correct\": \"c\"\\n},\\n\"5\": {\\n\"mcq\": \"What is the FDA\\'s stance on homeopathic medications as an alternative to conventional medications?\",\\n\"options\": {\\n\"a\": \"They are approved for all medical conditions\",\\n\"b\": \"They are not approved as alternatives\",\\n\"c\": \"They are recommended for children only\",\\n\"d\": \"They are considered more effective than conventional medications\"\\n},\\n\"correct\": \"b\"\\n},\\n\"6\": {\\n\"mcq\": \"What is one of the reasons why some homeopathic products have been flagged by the FDA?\",\\n\"options\": {\\n\"a\": \"They are too expensive\",\\n\"b\": \"They may contain alcohol as a solvent\",\\n\"c\": \"They are not effective\",\\n\"d\": \"They are only for adults\"\\n},\\n\"correct\": \"b\"\\n},\\n\"7\": {\\n\"mcq\": \"What is the FDA\\'s warning about homeopathic eye drops?\",\\n\"options\": {\\n\"a\": \"They are safe for all ages\",\\n\"b\": \"They may cause serious complications\",\\n\"c\": \"They are recommended for daily use\",\\n\"d\": \"They are more effective than traditional eye drops\"\\n},\\n\"correct\": \"b\"\\n},\\n\"8\": {\\n\"mcq\": \"What should be done before starting homeopathic medications for a child?\",\\n\"options\": {\\n\"a\": \"Consult a healthcare professional\",\\n\"b\": \"Double the dosage\",\\n\"c\": \"Skip conventional medications\",\\n\"d\": \"Give them to the child without supervision\"\\n},\\n\"correct\": \"a\"\\n},\\n\"9\": {\\n\"mcq\": \"What is the FDA\\'s caution regarding the dilution of homeopathic products?\",\\n\"options\": {\\n\"a\": \"They are always highly diluted\",\\n\"b\": \"Some products may contain measurable amounts of active ingredients\",\\n\"c\": \"They are not diluted at all\",\\n\"d\": \"They are diluted in alcohol\"\\n},\\n\"correct\": \"b\"\\n},\\n\"10\": {\\n\"mcq\": \"What is the best practice for homeopathic products and conventional immunizations?\",\\n\"options\": {\\n\"a\": \"Homeopathic products can replace immunizations\",\\n\"b\": \"Follow the recommended immunization schedules for children and adults\",\\n\"c\": \"Skip immunizations if taking homeopathic products\",\\n\"d\": \"Immunizations are not necessary if using homeopathic products\"\\n},\\n\"correct\": \"b\"\\n}\\n}'}"
      ]
     },
     "execution_count": 24,
     "metadata": {},
     "output_type": "execute_result"
    }
   ],
   "source": [
    "response"
   ]
  },
  {
   "cell_type": "code",
   "execution_count": 31,
   "metadata": {},
   "outputs": [
    {
     "name": "stdout",
     "output_type": "stream",
     "text": [
      "{'text': 'Kali phosphoricum or the phosphate of potassium (K2HPO4) is a homeopathic medication that is dispensed in the form of small round pills or diluted solutions.\\n\\nIt has widespread usages in homeopathy, including its use as a tonic for nerves and the brain. A homeopathic practitioner may prescribe this medicine in multiple doses if a patient suffers from psychosomatic effects (affecting the mind and body) of longstanding stress, such as:\\n\\nchronic fatigue\\ntension headaches\\nacidity\\nupset stomach\\nIt could also be prescribed (after exhaustively analyzing medical history and conducting consultation sessions) in individuals who suffer from stress-related mood swings, migraines, insomnia, anxiety, and depressive episodes.\\n\\nThe homeopathic texts state that potassium phosphate can be prescribed in standard homeopathic doses for problems with cognition, inattention, and difficulties during concentrating. Homeopathic medications are best taken under the supervision of a doctor. This includes the homeopathic doctor as well as the family physician, who practices modern medicine.\\n\\nIt is better to abstain from chewing tobacco or drinking liquor when on homeopathic medications, especially kali phosphoricum.\\n\\n\\nIs kali phosphoricum effective?\\nHomeopathy is an alternate system of medicine and healing that originated in Germany many years ago. It involves dispensing “customized” doses and “specific” drugs based on the medical history and symptoms of a patient.\\n\\nMany homeopathic products are so diluted that clinical studies have found no molecules of the original substance in the drug formulations. Many modern medicine practitioners believe that homeopathy does not work. Furthermore, several studies conducted with kali phosphoricum and similar drugs have yielded inconclusive findings regarding their efficacy. As of the present, the trace elements present in kali phosphoricum have shown no potential or effectiveness against the conditions for which they are prescribed.\\n\\nThe U.S. Food and Drug Administration has not approved any homeopathic medication to be an alternative to conventional medications.\\n\\n\\nWho can take kali phos?\\nThough the homeopathic medicine practitioners state that kali phos is safe for all age groups, it is recommended that conventional medications or interventions should not be replaced with homeopathy. Do not postpone seeing a healthcare provider about a serious medical problem. If there are constant issues with memory, severe fatigue that does not go away, constant headaches, insomnia, and gastric upset, it is better to visit a practitioner of modern medicine and get the required tests done to rule out causes other than stress.\\n\\nMany homeopathic medications have been flagged by the U.S. Food and Drug Administration as controversial because of the following reasons:\\n\\nThe possibility of bacterial growth in the preparations\\nThe liquid preparations offered to kids may contain alcohol as a solvent\\nTherefore, people must avoid taking kali phos (or any other homeopathic medication) if they are pregnant, breastfeeding, or have immunodeficiencies. Children and adolescents younger than 18 years old must be given such medication only after discussing it with a healthcare provider.\\n\\nThough the practitioners argue that homeopathic medications do not cause adverse effects, people must always bring along the homeopathic product they use (if there is one) when visiting their doctor.\\n\\n4 things to know about homeopathic medications\\nIt is prudent to follow the recommended conventional immunization schedules for children as well as adults. Homeopathic products cannot replace conventional immunizations.\\nTalk to the healthcare professional before starting homeopathic medications for a child.\\nWhile the manufacturers claim that homeopathic products are “highly diluted,” the U.S. Food and Drug Administration cautions that some of these products may contain measurable amounts of active ingredients, be adulterated, and cause significant harm.\\nUnsterile manufacturing procedures and incorrect dilutions used as homeopathic eye drops may cause serious complications.', 'number': 10, 'subject': 'Homeopathy', 'tone': 'simple', 'response_json': '{\"1\": {\"mcq\": \"multiple choice question\", \"options\": {\"a\": \"choice here\", \"b\": \"choice here\", \"c\": \"choice here\", \"d\": \"choice here\"}, \"correct\": \"correct answer\"}, \"2\": {\"mcq\": \"multiple choice question\", \"options\": {\"a\": \"choice here\", \"b\": \"choice here\", \"c\": \"choice here\", \"d\": \"choice here\"}, \"correct\": \"correct answer\"}, \"3\": {\"mcq\": \"multiple choice question\", \"options\": {\"a\": \"choice here\", \"b\": \"choice here\", \"c\": \"choice here\", \"d\": \"choice here\"}, \"correct\": \"correct answer\"}}', 'quiz': '{\\n\"1\": {\\n\"mcq\": \"What is Kali phosphoricum?\",\\n\"options\": {\\n\"a\": \"A homeopathic medication made from potassium phosphate\",\\n\"b\": \"A modern medicine for stress relief\",\\n\"c\": \"A type of surgical procedure\",\\n\"d\": \"An antibiotic drug\"\\n},\\n\"correct\": \"a\"\\n},\\n\"2\": {\\n\"mcq\": \"What is the main usage of Kali phosphoricum in homeopathy?\",\\n\"options\": {\\n\"a\": \"Treatment of skin conditions\",\\n\"b\": \"Tonic for nerves and the brain\",\\n\"c\": \"Treatment of heart diseases\",\\n\"d\": \"Treatment of respiratory infections\"\\n},\\n\"correct\": \"b\"\\n},\\n\"3\": {\\n\"mcq\": \"Which of the following conditions can Kali phosphoricum be prescribed for?\",\\n\"options\": {\\n\"a\": \"High blood pressure\",\\n\"b\": \"Chronic fatigue\",\\n\"c\": \"Diabetes\",\\n\"d\": \"Broken bones\"\\n},\\n\"correct\": \"b\"\\n},\\n\"4\": {\\n\"mcq\": \"What caution should be taken when consuming Kali phosphoricum?\",\\n\"options\": {\\n\"a\": \"Avoid chewing tobacco or drinking alcohol\",\\n\"b\": \"Take it with any type of beverage\",\\n\"c\": \"Consume it with high-fat foods\",\\n\"d\": \"Mix it with other medications\"\\n},\\n\"correct\": \"a\"\\n},\\n\"5\": {\\n\"mcq\": \"Is Kali phosphoricum approved by the U.S. Food and Drug Administration?\",\\n\"options\": {\\n\"a\": \"Yes, for all age groups\",\\n\"b\": \"No, it has not been approved\",\\n\"c\": \"Only for children under 12\",\\n\"d\": \"Only for pregnant women\"\\n},\\n\"correct\": \"b\"\\n},\\n\"6\": {\\n\"mcq\": \"Who should consult a healthcare provider before taking Kali phosphoricum?\",\\n\"options\": {\\n\"a\": \"Only pregnant women\",\\n\"b\": \"Children and adolescents\",\\n\"c\": \"Elderly people\",\\n\"d\": \"Only people with allergies\"\\n},\\n\"correct\": \"b\"\\n},\\n\"7\": {\\n\"mcq\": \"What is the caution given by the U.S. Food and Drug Administration regarding homeopathic products?\",\\n\"options\": {\\n\"a\": \"They are all safe for consumption\",\\n\"b\": \"They may contain measurable amounts of active ingredients\",\\n\"c\": \"They are better than conventional medications\",\\n\"d\": \"They have no side effects\"\\n},\\n\"correct\": \"b\"\\n},\\n\"8\": {\\n\"mcq\": \"What is the recommendation regarding conventional immunizations and homeopathic products?\",\\n\"options\": {\\n\"a\": \"Homeopathic products can replace conventional immunizations\",\\n\"b\": \"Conventional immunizations should be followed as recommended\",\\n\"c\": \"Children should not receive any immunizations\",\\n\"d\": \"Only adults need immunizations\"\\n},\\n\"correct\": \"b\"\\n},\\n\"9\": {\\n\"mcq\": \"What should be done before starting homeopathic medications for a child?\",\\n\"options\": {\\n\"a\": \"Consult a healthcare professional\",\\n\"b\": \"Start the medication immediately\",\\n\"c\": \"Give a higher dose than recommended\",\\n\"d\": \"Wait for symptoms to worsen\"\\n},\\n\"correct\": \"a\"\\n},\\n\"10\": {\\n\"mcq\": \"What complications can arise from unsterile manufacturing procedures of homeopathic products?\",\\n\"options\": {\\n\"a\": \"No complications\",\\n\"b\": \"Minor skin irritation\",\\n\"c\": \"Serious complications\",\\n\"d\": \"Temporary headaches\"\\n},\\n\"correct\": \"c\"\\n}\\n}', 'review': '\\n{\\n\"1\": {\\n\"mcq\": \"What is Kali phosphoricum?\",\\n\"options\": {\\n\"a\": \"A homeopathic medication\",\\n\"b\": \"A type of antibiotic\",\\n\"c\": \"A surgical procedure\",\\n\"d\": \"A vitamin supplement\"\\n},\\n\"correct\": \"a\"\\n},\\n\"2\": {\\n\"mcq\": \"What is the main usage of Kali phosphoricum in homeopathy?\",\\n\"options\": {\\n\"a\": \"To treat skin conditions\",\\n\"b\": \"To improve digestion\",\\n\"c\": \"As a tonic for nerves and the brain\",\\n\"d\": \"To reduce inflammation\"\\n},\\n\"correct\": \"c\"\\n},\\n\"3\": {\\n\"mcq\": \"Why is it recommended to take homeopathic medications under the supervision of a doctor?\",\\n\"options\": {\\n\"a\": \"To avoid side effects\",\\n\"b\": \"To ensure correct dosage\",\\n\"c\": \"To prevent bacterial growth\",\\n\"d\": \"To speed up recovery\"\\n},\\n\"correct\": \"b\"\\n},\\n\"4\": {\\n\"mcq\": \"What caution is advised for pregnant women regarding homeopathic medications?\",\\n\"options\": {\\n\"a\": \"They should take double the dosage\",\\n\"b\": \"They should avoid taking any homeopathic medication\",\\n\"c\": \"They should consult a healthcare provider before taking any medication\",\\n\"d\": \"They should only take liquid preparations\"\\n},\\n\"correct\": \"c\"\\n},\\n\"5\": {\\n\"mcq\": \"What is the FDA\\'s stance on homeopathic medications as an alternative to conventional medications?\",\\n\"options\": {\\n\"a\": \"They are approved for all medical conditions\",\\n\"b\": \"They are not approved as alternatives\",\\n\"c\": \"They are recommended for children only\",\\n\"d\": \"They are considered more effective than conventional medications\"\\n},\\n\"correct\": \"b\"\\n},\\n\"6\": {\\n\"mcq\": \"What is one of the reasons why some homeopathic products have been flagged by the FDA?\",\\n\"options\": {\\n\"a\": \"They are too expensive\",\\n\"b\": \"They may contain alcohol as a solvent\",\\n\"c\": \"They are not effective\",\\n\"d\": \"They are only for adults\"\\n},\\n\"correct\": \"b\"\\n},\\n\"7\": {\\n\"mcq\": \"What is the FDA\\'s warning about homeopathic eye drops?\",\\n\"options\": {\\n\"a\": \"They are safe for all ages\",\\n\"b\": \"They may cause serious complications\",\\n\"c\": \"They are recommended for daily use\",\\n\"d\": \"They are more effective than traditional eye drops\"\\n},\\n\"correct\": \"b\"\\n},\\n\"8\": {\\n\"mcq\": \"What should be done before starting homeopathic medications for a child?\",\\n\"options\": {\\n\"a\": \"Consult a healthcare professional\",\\n\"b\": \"Double the dosage\",\\n\"c\": \"Skip conventional medications\",\\n\"d\": \"Give them to the child without supervision\"\\n},\\n\"correct\": \"a\"\\n},\\n\"9\": {\\n\"mcq\": \"What is the FDA\\'s caution regarding the dilution of homeopathic products?\",\\n\"options\": {\\n\"a\": \"They are always highly diluted\",\\n\"b\": \"Some products may contain measurable amounts of active ingredients\",\\n\"c\": \"They are not diluted at all\",\\n\"d\": \"They are diluted in alcohol\"\\n},\\n\"correct\": \"b\"\\n},\\n\"10\": {\\n\"mcq\": \"What is the best practice for homeopathic products and conventional immunizations?\",\\n\"options\": {\\n\"a\": \"Homeopathic products can replace immunizations\",\\n\"b\": \"Follow the recommended immunization schedules for children and adults\",\\n\"c\": \"Skip immunizations if taking homeopathic products\",\\n\"d\": \"Immunizations are not necessary if using homeopathic products\"\\n},\\n\"correct\": \"b\"\\n}\\n}'}\n"
     ]
    }
   ],
   "source": [
    "print(response)"
   ]
  },
  {
   "cell_type": "code",
   "execution_count": 32,
   "metadata": {},
   "outputs": [
    {
     "name": "stdout",
     "output_type": "stream",
     "text": [
      "<class 'dict'>\n"
     ]
    }
   ],
   "source": [
    "print(type(response))"
   ]
  },
  {
   "cell_type": "code",
   "execution_count": 33,
   "metadata": {},
   "outputs": [
    {
     "name": "stdout",
     "output_type": "stream",
     "text": [
      "dict_keys(['text', 'number', 'subject', 'tone', 'response_json', 'quiz', 'review'])\n"
     ]
    }
   ],
   "source": [
    "print(response.keys())"
   ]
  },
  {
   "cell_type": "code",
   "execution_count": 35,
   "metadata": {},
   "outputs": [
    {
     "name": "stdout",
     "output_type": "stream",
     "text": [
      "Kali phosphoricum or the phosphate of potassium (K2HPO4) is a homeopathic medication that is dispensed in the form of small round pills or diluted solutions.\n",
      "\n",
      "It has widespread usages in homeopathy, including its use as a tonic for nerves and the brain. A homeopathic practitioner may prescribe this medicine in multiple doses if a patient suffers from psychosomatic effects (affecting the mind and body) of longstanding stress, such as:\n",
      "\n",
      "chronic fatigue\n",
      "tension headaches\n",
      "acidity\n",
      "upset stomach\n",
      "It could also be prescribed (after exhaustively analyzing medical history and conducting consultation sessions) in individuals who suffer from stress-related mood swings, migraines, insomnia, anxiety, and depressive episodes.\n",
      "\n",
      "The homeopathic texts state that potassium phosphate can be prescribed in standard homeopathic doses for problems with cognition, inattention, and difficulties during concentrating. Homeopathic medications are best taken under the supervision of a doctor. This includes the homeopathic doctor as well as the family physician, who practices modern medicine.\n",
      "\n",
      "It is better to abstain from chewing tobacco or drinking liquor when on homeopathic medications, especially kali phosphoricum.\n",
      "\n",
      "\n",
      "Is kali phosphoricum effective?\n",
      "Homeopathy is an alternate system of medicine and healing that originated in Germany many years ago. It involves dispensing “customized” doses and “specific” drugs based on the medical history and symptoms of a patient.\n",
      "\n",
      "Many homeopathic products are so diluted that clinical studies have found no molecules of the original substance in the drug formulations. Many modern medicine practitioners believe that homeopathy does not work. Furthermore, several studies conducted with kali phosphoricum and similar drugs have yielded inconclusive findings regarding their efficacy. As of the present, the trace elements present in kali phosphoricum have shown no potential or effectiveness against the conditions for which they are prescribed.\n",
      "\n",
      "The U.S. Food and Drug Administration has not approved any homeopathic medication to be an alternative to conventional medications.\n",
      "\n",
      "\n",
      "Who can take kali phos?\n",
      "Though the homeopathic medicine practitioners state that kali phos is safe for all age groups, it is recommended that conventional medications or interventions should not be replaced with homeopathy. Do not postpone seeing a healthcare provider about a serious medical problem. If there are constant issues with memory, severe fatigue that does not go away, constant headaches, insomnia, and gastric upset, it is better to visit a practitioner of modern medicine and get the required tests done to rule out causes other than stress.\n",
      "\n",
      "Many homeopathic medications have been flagged by the U.S. Food and Drug Administration as controversial because of the following reasons:\n",
      "\n",
      "The possibility of bacterial growth in the preparations\n",
      "The liquid preparations offered to kids may contain alcohol as a solvent\n",
      "Therefore, people must avoid taking kali phos (or any other homeopathic medication) if they are pregnant, breastfeeding, or have immunodeficiencies. Children and adolescents younger than 18 years old must be given such medication only after discussing it with a healthcare provider.\n",
      "\n",
      "Though the practitioners argue that homeopathic medications do not cause adverse effects, people must always bring along the homeopathic product they use (if there is one) when visiting their doctor.\n",
      "\n",
      "4 things to know about homeopathic medications\n",
      "It is prudent to follow the recommended conventional immunization schedules for children as well as adults. Homeopathic products cannot replace conventional immunizations.\n",
      "Talk to the healthcare professional before starting homeopathic medications for a child.\n",
      "While the manufacturers claim that homeopathic products are “highly diluted,” the U.S. Food and Drug Administration cautions that some of these products may contain measurable amounts of active ingredients, be adulterated, and cause significant harm.\n",
      "Unsterile manufacturing procedures and incorrect dilutions used as homeopathic eye drops may cause serious complications.\n"
     ]
    }
   ],
   "source": [
    "print(response['text'])"
   ]
  },
  {
   "cell_type": "code",
   "execution_count": 36,
   "metadata": {},
   "outputs": [
    {
     "name": "stdout",
     "output_type": "stream",
     "text": [
      "10 Homeopathy simple\n"
     ]
    }
   ],
   "source": [
    "print(response['number'],response['subject'],response['tone'])"
   ]
  },
  {
   "cell_type": "code",
   "execution_count": 37,
   "metadata": {},
   "outputs": [
    {
     "name": "stdout",
     "output_type": "stream",
     "text": [
      "{\"1\": {\"mcq\": \"multiple choice question\", \"options\": {\"a\": \"choice here\", \"b\": \"choice here\", \"c\": \"choice here\", \"d\": \"choice here\"}, \"correct\": \"correct answer\"}, \"2\": {\"mcq\": \"multiple choice question\", \"options\": {\"a\": \"choice here\", \"b\": \"choice here\", \"c\": \"choice here\", \"d\": \"choice here\"}, \"correct\": \"correct answer\"}, \"3\": {\"mcq\": \"multiple choice question\", \"options\": {\"a\": \"choice here\", \"b\": \"choice here\", \"c\": \"choice here\", \"d\": \"choice here\"}, \"correct\": \"correct answer\"}}\n"
     ]
    }
   ],
   "source": [
    "print(response['response_json'])"
   ]
  },
  {
   "cell_type": "code",
   "execution_count": 40,
   "metadata": {},
   "outputs": [
    {
     "name": "stdout",
     "output_type": "stream",
     "text": [
      "{\n",
      "\"1\": {\n",
      "\"mcq\": \"What is Kali phosphoricum?\",\n",
      "\"options\": {\n",
      "\"a\": \"A homeopathic medication made from potassium phosphate\",\n",
      "\"b\": \"A modern medicine for stress relief\",\n",
      "\"c\": \"A type of surgical procedure\",\n",
      "\"d\": \"An antibiotic drug\"\n",
      "},\n",
      "\"correct\": \"a\"\n",
      "},\n",
      "\"2\": {\n",
      "\"mcq\": \"What is the main usage of Kali phosphoricum in homeopathy?\",\n",
      "\"options\": {\n",
      "\"a\": \"Treatment of skin conditions\",\n",
      "\"b\": \"Tonic for nerves and the brain\",\n",
      "\"c\": \"Treatment of heart diseases\",\n",
      "\"d\": \"Treatment of respiratory infections\"\n",
      "},\n",
      "\"correct\": \"b\"\n",
      "},\n",
      "\"3\": {\n",
      "\"mcq\": \"Which of the following conditions can Kali phosphoricum be prescribed for?\",\n",
      "\"options\": {\n",
      "\"a\": \"High blood pressure\",\n",
      "\"b\": \"Chronic fatigue\",\n",
      "\"c\": \"Diabetes\",\n",
      "\"d\": \"Broken bones\"\n",
      "},\n",
      "\"correct\": \"b\"\n",
      "},\n",
      "\"4\": {\n",
      "\"mcq\": \"What caution should be taken when consuming Kali phosphoricum?\",\n",
      "\"options\": {\n",
      "\"a\": \"Avoid chewing tobacco or drinking alcohol\",\n",
      "\"b\": \"Take it with any type of beverage\",\n",
      "\"c\": \"Consume it with high-fat foods\",\n",
      "\"d\": \"Mix it with other medications\"\n",
      "},\n",
      "\"correct\": \"a\"\n",
      "},\n",
      "\"5\": {\n",
      "\"mcq\": \"Is Kali phosphoricum approved by the U.S. Food and Drug Administration?\",\n",
      "\"options\": {\n",
      "\"a\": \"Yes, for all age groups\",\n",
      "\"b\": \"No, it has not been approved\",\n",
      "\"c\": \"Only for children under 12\",\n",
      "\"d\": \"Only for pregnant women\"\n",
      "},\n",
      "\"correct\": \"b\"\n",
      "},\n",
      "\"6\": {\n",
      "\"mcq\": \"Who should consult a healthcare provider before taking Kali phosphoricum?\",\n",
      "\"options\": {\n",
      "\"a\": \"Only pregnant women\",\n",
      "\"b\": \"Children and adolescents\",\n",
      "\"c\": \"Elderly people\",\n",
      "\"d\": \"Only people with allergies\"\n",
      "},\n",
      "\"correct\": \"b\"\n",
      "},\n",
      "\"7\": {\n",
      "\"mcq\": \"What is the caution given by the U.S. Food and Drug Administration regarding homeopathic products?\",\n",
      "\"options\": {\n",
      "\"a\": \"They are all safe for consumption\",\n",
      "\"b\": \"They may contain measurable amounts of active ingredients\",\n",
      "\"c\": \"They are better than conventional medications\",\n",
      "\"d\": \"They have no side effects\"\n",
      "},\n",
      "\"correct\": \"b\"\n",
      "},\n",
      "\"8\": {\n",
      "\"mcq\": \"What is the recommendation regarding conventional immunizations and homeopathic products?\",\n",
      "\"options\": {\n",
      "\"a\": \"Homeopathic products can replace conventional immunizations\",\n",
      "\"b\": \"Conventional immunizations should be followed as recommended\",\n",
      "\"c\": \"Children should not receive any immunizations\",\n",
      "\"d\": \"Only adults need immunizations\"\n",
      "},\n",
      "\"correct\": \"b\"\n",
      "},\n",
      "\"9\": {\n",
      "\"mcq\": \"What should be done before starting homeopathic medications for a child?\",\n",
      "\"options\": {\n",
      "\"a\": \"Consult a healthcare professional\",\n",
      "\"b\": \"Start the medication immediately\",\n",
      "\"c\": \"Give a higher dose than recommended\",\n",
      "\"d\": \"Wait for symptoms to worsen\"\n",
      "},\n",
      "\"correct\": \"a\"\n",
      "},\n",
      "\"10\": {\n",
      "\"mcq\": \"What complications can arise from unsterile manufacturing procedures of homeopathic products?\",\n",
      "\"options\": {\n",
      "\"a\": \"No complications\",\n",
      "\"b\": \"Minor skin irritation\",\n",
      "\"c\": \"Serious complications\",\n",
      "\"d\": \"Temporary headaches\"\n",
      "},\n",
      "\"correct\": \"c\"\n",
      "}\n",
      "}\n"
     ]
    }
   ],
   "source": [
    "print(response['quiz'])"
   ]
  },
  {
   "cell_type": "code",
   "execution_count": 41,
   "metadata": {},
   "outputs": [
    {
     "name": "stdout",
     "output_type": "stream",
     "text": [
      "\n",
      "{\n",
      "\"1\": {\n",
      "\"mcq\": \"What is Kali phosphoricum?\",\n",
      "\"options\": {\n",
      "\"a\": \"A homeopathic medication\",\n",
      "\"b\": \"A type of antibiotic\",\n",
      "\"c\": \"A surgical procedure\",\n",
      "\"d\": \"A vitamin supplement\"\n",
      "},\n",
      "\"correct\": \"a\"\n",
      "},\n",
      "\"2\": {\n",
      "\"mcq\": \"What is the main usage of Kali phosphoricum in homeopathy?\",\n",
      "\"options\": {\n",
      "\"a\": \"To treat skin conditions\",\n",
      "\"b\": \"To improve digestion\",\n",
      "\"c\": \"As a tonic for nerves and the brain\",\n",
      "\"d\": \"To reduce inflammation\"\n",
      "},\n",
      "\"correct\": \"c\"\n",
      "},\n",
      "\"3\": {\n",
      "\"mcq\": \"Why is it recommended to take homeopathic medications under the supervision of a doctor?\",\n",
      "\"options\": {\n",
      "\"a\": \"To avoid side effects\",\n",
      "\"b\": \"To ensure correct dosage\",\n",
      "\"c\": \"To prevent bacterial growth\",\n",
      "\"d\": \"To speed up recovery\"\n",
      "},\n",
      "\"correct\": \"b\"\n",
      "},\n",
      "\"4\": {\n",
      "\"mcq\": \"What caution is advised for pregnant women regarding homeopathic medications?\",\n",
      "\"options\": {\n",
      "\"a\": \"They should take double the dosage\",\n",
      "\"b\": \"They should avoid taking any homeopathic medication\",\n",
      "\"c\": \"They should consult a healthcare provider before taking any medication\",\n",
      "\"d\": \"They should only take liquid preparations\"\n",
      "},\n",
      "\"correct\": \"c\"\n",
      "},\n",
      "\"5\": {\n",
      "\"mcq\": \"What is the FDA's stance on homeopathic medications as an alternative to conventional medications?\",\n",
      "\"options\": {\n",
      "\"a\": \"They are approved for all medical conditions\",\n",
      "\"b\": \"They are not approved as alternatives\",\n",
      "\"c\": \"They are recommended for children only\",\n",
      "\"d\": \"They are considered more effective than conventional medications\"\n",
      "},\n",
      "\"correct\": \"b\"\n",
      "},\n",
      "\"6\": {\n",
      "\"mcq\": \"What is one of the reasons why some homeopathic products have been flagged by the FDA?\",\n",
      "\"options\": {\n",
      "\"a\": \"They are too expensive\",\n",
      "\"b\": \"They may contain alcohol as a solvent\",\n",
      "\"c\": \"They are not effective\",\n",
      "\"d\": \"They are only for adults\"\n",
      "},\n",
      "\"correct\": \"b\"\n",
      "},\n",
      "\"7\": {\n",
      "\"mcq\": \"What is the FDA's warning about homeopathic eye drops?\",\n",
      "\"options\": {\n",
      "\"a\": \"They are safe for all ages\",\n",
      "\"b\": \"They may cause serious complications\",\n",
      "\"c\": \"They are recommended for daily use\",\n",
      "\"d\": \"They are more effective than traditional eye drops\"\n",
      "},\n",
      "\"correct\": \"b\"\n",
      "},\n",
      "\"8\": {\n",
      "\"mcq\": \"What should be done before starting homeopathic medications for a child?\",\n",
      "\"options\": {\n",
      "\"a\": \"Consult a healthcare professional\",\n",
      "\"b\": \"Double the dosage\",\n",
      "\"c\": \"Skip conventional medications\",\n",
      "\"d\": \"Give them to the child without supervision\"\n",
      "},\n",
      "\"correct\": \"a\"\n",
      "},\n",
      "\"9\": {\n",
      "\"mcq\": \"What is the FDA's caution regarding the dilution of homeopathic products?\",\n",
      "\"options\": {\n",
      "\"a\": \"They are always highly diluted\",\n",
      "\"b\": \"Some products may contain measurable amounts of active ingredients\",\n",
      "\"c\": \"They are not diluted at all\",\n",
      "\"d\": \"They are diluted in alcohol\"\n",
      "},\n",
      "\"correct\": \"b\"\n",
      "},\n",
      "\"10\": {\n",
      "\"mcq\": \"What is the best practice for homeopathic products and conventional immunizations?\",\n",
      "\"options\": {\n",
      "\"a\": \"Homeopathic products can replace immunizations\",\n",
      "\"b\": \"Follow the recommended immunization schedules for children and adults\",\n",
      "\"c\": \"Skip immunizations if taking homeopathic products\",\n",
      "\"d\": \"Immunizations are not necessary if using homeopathic products\"\n",
      "},\n",
      "\"correct\": \"b\"\n",
      "}\n",
      "}\n"
     ]
    }
   ],
   "source": [
    "print(response['review'])"
   ]
  },
  {
   "cell_type": "code",
   "execution_count": 42,
   "metadata": {},
   "outputs": [],
   "source": [
    "quiz = response.get(\"quiz\")"
   ]
  },
  {
   "cell_type": "code",
   "execution_count": 43,
   "metadata": {},
   "outputs": [
    {
     "data": {
      "text/plain": [
       "{'1': {'mcq': 'What is Kali phosphoricum?',\n",
       "  'options': {'a': 'A homeopathic medication made from potassium phosphate',\n",
       "   'b': 'A modern medicine for stress relief',\n",
       "   'c': 'A type of surgical procedure',\n",
       "   'd': 'An antibiotic drug'},\n",
       "  'correct': 'a'},\n",
       " '2': {'mcq': 'What is the main usage of Kali phosphoricum in homeopathy?',\n",
       "  'options': {'a': 'Treatment of skin conditions',\n",
       "   'b': 'Tonic for nerves and the brain',\n",
       "   'c': 'Treatment of heart diseases',\n",
       "   'd': 'Treatment of respiratory infections'},\n",
       "  'correct': 'b'},\n",
       " '3': {'mcq': 'Which of the following conditions can Kali phosphoricum be prescribed for?',\n",
       "  'options': {'a': 'High blood pressure',\n",
       "   'b': 'Chronic fatigue',\n",
       "   'c': 'Diabetes',\n",
       "   'd': 'Broken bones'},\n",
       "  'correct': 'b'},\n",
       " '4': {'mcq': 'What caution should be taken when consuming Kali phosphoricum?',\n",
       "  'options': {'a': 'Avoid chewing tobacco or drinking alcohol',\n",
       "   'b': 'Take it with any type of beverage',\n",
       "   'c': 'Consume it with high-fat foods',\n",
       "   'd': 'Mix it with other medications'},\n",
       "  'correct': 'a'},\n",
       " '5': {'mcq': 'Is Kali phosphoricum approved by the U.S. Food and Drug Administration?',\n",
       "  'options': {'a': 'Yes, for all age groups',\n",
       "   'b': 'No, it has not been approved',\n",
       "   'c': 'Only for children under 12',\n",
       "   'd': 'Only for pregnant women'},\n",
       "  'correct': 'b'},\n",
       " '6': {'mcq': 'Who should consult a healthcare provider before taking Kali phosphoricum?',\n",
       "  'options': {'a': 'Only pregnant women',\n",
       "   'b': 'Children and adolescents',\n",
       "   'c': 'Elderly people',\n",
       "   'd': 'Only people with allergies'},\n",
       "  'correct': 'b'},\n",
       " '7': {'mcq': 'What is the caution given by the U.S. Food and Drug Administration regarding homeopathic products?',\n",
       "  'options': {'a': 'They are all safe for consumption',\n",
       "   'b': 'They may contain measurable amounts of active ingredients',\n",
       "   'c': 'They are better than conventional medications',\n",
       "   'd': 'They have no side effects'},\n",
       "  'correct': 'b'},\n",
       " '8': {'mcq': 'What is the recommendation regarding conventional immunizations and homeopathic products?',\n",
       "  'options': {'a': 'Homeopathic products can replace conventional immunizations',\n",
       "   'b': 'Conventional immunizations should be followed as recommended',\n",
       "   'c': 'Children should not receive any immunizations',\n",
       "   'd': 'Only adults need immunizations'},\n",
       "  'correct': 'b'},\n",
       " '9': {'mcq': 'What should be done before starting homeopathic medications for a child?',\n",
       "  'options': {'a': 'Consult a healthcare professional',\n",
       "   'b': 'Start the medication immediately',\n",
       "   'c': 'Give a higher dose than recommended',\n",
       "   'd': 'Wait for symptoms to worsen'},\n",
       "  'correct': 'a'},\n",
       " '10': {'mcq': 'What complications can arise from unsterile manufacturing procedures of homeopathic products?',\n",
       "  'options': {'a': 'No complications',\n",
       "   'b': 'Minor skin irritation',\n",
       "   'c': 'Serious complications',\n",
       "   'd': 'Temporary headaches'},\n",
       "  'correct': 'c'}}"
      ]
     },
     "execution_count": 43,
     "metadata": {},
     "output_type": "execute_result"
    }
   ],
   "source": [
    "quiz = json.loads(quiz)\n",
    "quiz"
   ]
  },
  {
   "cell_type": "code",
   "execution_count": 44,
   "metadata": {},
   "outputs": [
    {
     "data": {
      "text/plain": [
       "dict_items([('1', {'mcq': 'What is Kali phosphoricum?', 'options': {'a': 'A homeopathic medication made from potassium phosphate', 'b': 'A modern medicine for stress relief', 'c': 'A type of surgical procedure', 'd': 'An antibiotic drug'}, 'correct': 'a'}), ('2', {'mcq': 'What is the main usage of Kali phosphoricum in homeopathy?', 'options': {'a': 'Treatment of skin conditions', 'b': 'Tonic for nerves and the brain', 'c': 'Treatment of heart diseases', 'd': 'Treatment of respiratory infections'}, 'correct': 'b'}), ('3', {'mcq': 'Which of the following conditions can Kali phosphoricum be prescribed for?', 'options': {'a': 'High blood pressure', 'b': 'Chronic fatigue', 'c': 'Diabetes', 'd': 'Broken bones'}, 'correct': 'b'}), ('4', {'mcq': 'What caution should be taken when consuming Kali phosphoricum?', 'options': {'a': 'Avoid chewing tobacco or drinking alcohol', 'b': 'Take it with any type of beverage', 'c': 'Consume it with high-fat foods', 'd': 'Mix it with other medications'}, 'correct': 'a'}), ('5', {'mcq': 'Is Kali phosphoricum approved by the U.S. Food and Drug Administration?', 'options': {'a': 'Yes, for all age groups', 'b': 'No, it has not been approved', 'c': 'Only for children under 12', 'd': 'Only for pregnant women'}, 'correct': 'b'}), ('6', {'mcq': 'Who should consult a healthcare provider before taking Kali phosphoricum?', 'options': {'a': 'Only pregnant women', 'b': 'Children and adolescents', 'c': 'Elderly people', 'd': 'Only people with allergies'}, 'correct': 'b'}), ('7', {'mcq': 'What is the caution given by the U.S. Food and Drug Administration regarding homeopathic products?', 'options': {'a': 'They are all safe for consumption', 'b': 'They may contain measurable amounts of active ingredients', 'c': 'They are better than conventional medications', 'd': 'They have no side effects'}, 'correct': 'b'}), ('8', {'mcq': 'What is the recommendation regarding conventional immunizations and homeopathic products?', 'options': {'a': 'Homeopathic products can replace conventional immunizations', 'b': 'Conventional immunizations should be followed as recommended', 'c': 'Children should not receive any immunizations', 'd': 'Only adults need immunizations'}, 'correct': 'b'}), ('9', {'mcq': 'What should be done before starting homeopathic medications for a child?', 'options': {'a': 'Consult a healthcare professional', 'b': 'Start the medication immediately', 'c': 'Give a higher dose than recommended', 'd': 'Wait for symptoms to worsen'}, 'correct': 'a'}), ('10', {'mcq': 'What complications can arise from unsterile manufacturing procedures of homeopathic products?', 'options': {'a': 'No complications', 'b': 'Minor skin irritation', 'c': 'Serious complications', 'd': 'Temporary headaches'}, 'correct': 'c'})])"
      ]
     },
     "execution_count": 44,
     "metadata": {},
     "output_type": "execute_result"
    }
   ],
   "source": [
    "quiz.items()\n"
   ]
  },
  {
   "cell_type": "code",
   "execution_count": 47,
   "metadata": {},
   "outputs": [],
   "source": [
    "quiz_table_data = []\n",
    "for key,value in quiz.items():\n",
    "    mcq = value[\"mcq\"]\n",
    "    options = \" | \".join(\n",
    "        [\n",
    "            f\"{option}: {option_value}\"\n",
    "            for option,option_value in value[\"options\"].items()\n",
    "        ]\n",
    "    )\n",
    "\n",
    "    correct = value[\"correct\"]\n",
    "    quiz_table_data.append({\"MCQ\":mcq, \"Choices\":options, \"Correct\": correct})"
   ]
  },
  {
   "cell_type": "code",
   "execution_count": 48,
   "metadata": {},
   "outputs": [
    {
     "data": {
      "text/plain": [
       "[{'MCQ': 'What is Kali phosphoricum?',\n",
       "  'Choices': 'a: A homeopathic medication made from potassium phosphate | b: A modern medicine for stress relief | c: A type of surgical procedure | d: An antibiotic drug',\n",
       "  'Correct': 'a'},\n",
       " {'MCQ': 'What is the main usage of Kali phosphoricum in homeopathy?',\n",
       "  'Choices': 'a: Treatment of skin conditions | b: Tonic for nerves and the brain | c: Treatment of heart diseases | d: Treatment of respiratory infections',\n",
       "  'Correct': 'b'},\n",
       " {'MCQ': 'Which of the following conditions can Kali phosphoricum be prescribed for?',\n",
       "  'Choices': 'a: High blood pressure | b: Chronic fatigue | c: Diabetes | d: Broken bones',\n",
       "  'Correct': 'b'},\n",
       " {'MCQ': 'What caution should be taken when consuming Kali phosphoricum?',\n",
       "  'Choices': 'a: Avoid chewing tobacco or drinking alcohol | b: Take it with any type of beverage | c: Consume it with high-fat foods | d: Mix it with other medications',\n",
       "  'Correct': 'a'},\n",
       " {'MCQ': 'Is Kali phosphoricum approved by the U.S. Food and Drug Administration?',\n",
       "  'Choices': 'a: Yes, for all age groups | b: No, it has not been approved | c: Only for children under 12 | d: Only for pregnant women',\n",
       "  'Correct': 'b'},\n",
       " {'MCQ': 'Who should consult a healthcare provider before taking Kali phosphoricum?',\n",
       "  'Choices': 'a: Only pregnant women | b: Children and adolescents | c: Elderly people | d: Only people with allergies',\n",
       "  'Correct': 'b'},\n",
       " {'MCQ': 'What is the caution given by the U.S. Food and Drug Administration regarding homeopathic products?',\n",
       "  'Choices': 'a: They are all safe for consumption | b: They may contain measurable amounts of active ingredients | c: They are better than conventional medications | d: They have no side effects',\n",
       "  'Correct': 'b'},\n",
       " {'MCQ': 'What is the recommendation regarding conventional immunizations and homeopathic products?',\n",
       "  'Choices': 'a: Homeopathic products can replace conventional immunizations | b: Conventional immunizations should be followed as recommended | c: Children should not receive any immunizations | d: Only adults need immunizations',\n",
       "  'Correct': 'b'},\n",
       " {'MCQ': 'What should be done before starting homeopathic medications for a child?',\n",
       "  'Choices': 'a: Consult a healthcare professional | b: Start the medication immediately | c: Give a higher dose than recommended | d: Wait for symptoms to worsen',\n",
       "  'Correct': 'a'},\n",
       " {'MCQ': 'What complications can arise from unsterile manufacturing procedures of homeopathic products?',\n",
       "  'Choices': 'a: No complications | b: Minor skin irritation | c: Serious complications | d: Temporary headaches',\n",
       "  'Correct': 'c'}]"
      ]
     },
     "execution_count": 48,
     "metadata": {},
     "output_type": "execute_result"
    }
   ],
   "source": [
    "quiz_table_data"
   ]
  },
  {
   "cell_type": "code",
   "execution_count": 49,
   "metadata": {},
   "outputs": [
    {
     "data": {
      "text/html": [
       "<div>\n",
       "<style scoped>\n",
       "    .dataframe tbody tr th:only-of-type {\n",
       "        vertical-align: middle;\n",
       "    }\n",
       "\n",
       "    .dataframe tbody tr th {\n",
       "        vertical-align: top;\n",
       "    }\n",
       "\n",
       "    .dataframe thead th {\n",
       "        text-align: right;\n",
       "    }\n",
       "</style>\n",
       "<table border=\"1\" class=\"dataframe\">\n",
       "  <thead>\n",
       "    <tr style=\"text-align: right;\">\n",
       "      <th></th>\n",
       "      <th>MCQ</th>\n",
       "      <th>Choices</th>\n",
       "      <th>Correct</th>\n",
       "    </tr>\n",
       "  </thead>\n",
       "  <tbody>\n",
       "    <tr>\n",
       "      <th>0</th>\n",
       "      <td>What is Kali phosphoricum?</td>\n",
       "      <td>a: A homeopathic medication made from potassiu...</td>\n",
       "      <td>a</td>\n",
       "    </tr>\n",
       "    <tr>\n",
       "      <th>1</th>\n",
       "      <td>What is the main usage of Kali phosphoricum in...</td>\n",
       "      <td>a: Treatment of skin conditions | b: Tonic for...</td>\n",
       "      <td>b</td>\n",
       "    </tr>\n",
       "    <tr>\n",
       "      <th>2</th>\n",
       "      <td>Which of the following conditions can Kali pho...</td>\n",
       "      <td>a: High blood pressure | b: Chronic fatigue | ...</td>\n",
       "      <td>b</td>\n",
       "    </tr>\n",
       "    <tr>\n",
       "      <th>3</th>\n",
       "      <td>What caution should be taken when consuming Ka...</td>\n",
       "      <td>a: Avoid chewing tobacco or drinking alcohol |...</td>\n",
       "      <td>a</td>\n",
       "    </tr>\n",
       "    <tr>\n",
       "      <th>4</th>\n",
       "      <td>Is Kali phosphoricum approved by the U.S. Food...</td>\n",
       "      <td>a: Yes, for all age groups | b: No, it has not...</td>\n",
       "      <td>b</td>\n",
       "    </tr>\n",
       "    <tr>\n",
       "      <th>5</th>\n",
       "      <td>Who should consult a healthcare provider befor...</td>\n",
       "      <td>a: Only pregnant women | b: Children and adole...</td>\n",
       "      <td>b</td>\n",
       "    </tr>\n",
       "    <tr>\n",
       "      <th>6</th>\n",
       "      <td>What is the caution given by the U.S. Food and...</td>\n",
       "      <td>a: They are all safe for consumption | b: They...</td>\n",
       "      <td>b</td>\n",
       "    </tr>\n",
       "    <tr>\n",
       "      <th>7</th>\n",
       "      <td>What is the recommendation regarding conventio...</td>\n",
       "      <td>a: Homeopathic products can replace convention...</td>\n",
       "      <td>b</td>\n",
       "    </tr>\n",
       "    <tr>\n",
       "      <th>8</th>\n",
       "      <td>What should be done before starting homeopathi...</td>\n",
       "      <td>a: Consult a healthcare professional | b: Star...</td>\n",
       "      <td>a</td>\n",
       "    </tr>\n",
       "    <tr>\n",
       "      <th>9</th>\n",
       "      <td>What complications can arise from unsterile ma...</td>\n",
       "      <td>a: No complications | b: Minor skin irritation...</td>\n",
       "      <td>c</td>\n",
       "    </tr>\n",
       "  </tbody>\n",
       "</table>\n",
       "</div>"
      ],
      "text/plain": [
       "                                                 MCQ  \\\n",
       "0                         What is Kali phosphoricum?   \n",
       "1  What is the main usage of Kali phosphoricum in...   \n",
       "2  Which of the following conditions can Kali pho...   \n",
       "3  What caution should be taken when consuming Ka...   \n",
       "4  Is Kali phosphoricum approved by the U.S. Food...   \n",
       "5  Who should consult a healthcare provider befor...   \n",
       "6  What is the caution given by the U.S. Food and...   \n",
       "7  What is the recommendation regarding conventio...   \n",
       "8  What should be done before starting homeopathi...   \n",
       "9  What complications can arise from unsterile ma...   \n",
       "\n",
       "                                             Choices Correct  \n",
       "0  a: A homeopathic medication made from potassiu...       a  \n",
       "1  a: Treatment of skin conditions | b: Tonic for...       b  \n",
       "2  a: High blood pressure | b: Chronic fatigue | ...       b  \n",
       "3  a: Avoid chewing tobacco or drinking alcohol |...       a  \n",
       "4  a: Yes, for all age groups | b: No, it has not...       b  \n",
       "5  a: Only pregnant women | b: Children and adole...       b  \n",
       "6  a: They are all safe for consumption | b: They...       b  \n",
       "7  a: Homeopathic products can replace convention...       b  \n",
       "8  a: Consult a healthcare professional | b: Star...       a  \n",
       "9  a: No complications | b: Minor skin irritation...       c  "
      ]
     },
     "execution_count": 49,
     "metadata": {},
     "output_type": "execute_result"
    }
   ],
   "source": [
    "quiz = pd.DataFrame(quiz_table_data)\n",
    "quiz"
   ]
  },
  {
   "cell_type": "code",
   "execution_count": 50,
   "metadata": {},
   "outputs": [],
   "source": [
    "quiz.to_csv(\"biology.csv\",index=False)"
   ]
  },
  {
   "cell_type": "code",
   "execution_count": 51,
   "metadata": {},
   "outputs": [
    {
     "data": {
      "text/plain": [
       "'03_17_2024_15_51_41'"
      ]
     },
     "execution_count": 51,
     "metadata": {},
     "output_type": "execute_result"
    }
   ],
   "source": [
    "from datetime import datetime\n",
    "datetime.now().strftime('%m_%d_%Y_%H_%M_%S')"
   ]
  },
  {
   "cell_type": "code",
   "execution_count": null,
   "metadata": {},
   "outputs": [],
   "source": []
  }
 ],
 "metadata": {
  "kernelspec": {
   "display_name": "Python 3",
   "language": "python",
   "name": "python3"
  },
  "language_info": {
   "codemirror_mode": {
    "name": "ipython",
    "version": 3
   },
   "file_extension": ".py",
   "mimetype": "text/x-python",
   "name": "python",
   "nbconvert_exporter": "python",
   "pygments_lexer": "ipython3",
   "version": "3.10.13"
  }
 },
 "nbformat": 4,
 "nbformat_minor": 2
}
